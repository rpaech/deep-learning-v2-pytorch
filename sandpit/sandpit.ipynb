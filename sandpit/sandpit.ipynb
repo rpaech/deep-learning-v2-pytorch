{
 "cells": [
  {
   "cell_type": "code",
   "execution_count": 1,
   "source": [
    "import torch\n",
    "x = torch.rand(5, 3)\n",
    "print(x)"
   ],
   "outputs": [
    {
     "output_type": "stream",
     "name": "stdout",
     "text": [
      "tensor([[0.6124, 0.0768, 0.8061],\n",
      "        [0.5642, 0.1630, 0.9069],\n",
      "        [0.4751, 0.2909, 0.0712],\n",
      "        [0.1683, 0.2227, 0.7011],\n",
      "        [0.1508, 0.9115, 0.5590]])\n"
     ]
    }
   ],
   "metadata": {}
  }
 ],
 "metadata": {
  "orig_nbformat": 4,
  "language_info": {
   "name": "python",
   "version": "3.9.6",
   "mimetype": "text/x-python",
   "codemirror_mode": {
    "name": "ipython",
    "version": 3
   },
   "pygments_lexer": "ipython3",
   "nbconvert_exporter": "python",
   "file_extension": ".py"
  },
  "kernelspec": {
   "name": "python3",
   "display_name": "Python 3.9.6 64-bit ('aipy': conda)"
  },
  "interpreter": {
   "hash": "5284d6bb2a88cbe49cf7ab99c6931535c140ec5b757447db2e04ef2cc3255efe"
  }
 },
 "nbformat": 4,
 "nbformat_minor": 2
}