{
 "cells": [
  {
   "cell_type": "code",
   "execution_count": 5,
   "source": [
    "import torch\r\n",
    "\r\n",
    "print(\"CUDA is available: {}\".format(torch.cuda.is_available()))\r\n",
    "\r\n",
    "x = torch.rand(5, 3)\r\n",
    "print(x)"
   ],
   "outputs": [
    {
     "output_type": "stream",
     "name": "stdout",
     "text": [
      "CUDA is available: True\n",
      "tensor([[0.2766, 0.9183, 0.4421],\n",
      "        [0.6432, 0.5057, 0.4472],\n",
      "        [0.9621, 0.9367, 0.6423],\n",
      "        [0.3222, 0.3318, 0.8385],\n",
      "        [0.8422, 0.3829, 0.6868]])\n"
     ]
    }
   ],
   "metadata": {}
  }
 ],
 "metadata": {
  "orig_nbformat": 4,
  "language_info": {
   "name": "python",
   "version": "3.9.7",
   "mimetype": "text/x-python",
   "codemirror_mode": {
    "name": "ipython",
    "version": 3
   },
   "pygments_lexer": "ipython3",
   "nbconvert_exporter": "python",
   "file_extension": ".py"
  },
  "kernelspec": {
   "name": "python3",
   "display_name": "Python 3.9.7 64-bit ('aipy': conda)"
  },
  "interpreter": {
   "hash": "3c464bad8990cb34300712bc677be2aab5ef39f636c8b3a93921b0b7ca18d5d0"
  }
 },
 "nbformat": 4,
 "nbformat_minor": 2
}