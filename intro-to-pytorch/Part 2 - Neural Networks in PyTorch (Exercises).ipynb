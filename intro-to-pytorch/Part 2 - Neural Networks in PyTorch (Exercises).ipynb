{
 "cells": [
  {
   "cell_type": "markdown",
   "source": [
    "# Neural networks with PyTorch\n",
    "\n",
    "Deep learning networks tend to be massive with dozens or hundreds of layers, that's where the term \"deep\" comes from. You can build one of these deep networks using only weight matrices as we did in the previous notebook, but in general it's very cumbersome and difficult to implement. PyTorch has a nice module `nn` that provides a nice way to efficiently build large neural networks."
   ],
   "metadata": {}
  },
  {
   "cell_type": "code",
   "execution_count": 1,
   "source": [
    "# Import necessary packages\r\n",
    "\r\n",
    "%matplotlib inline\r\n",
    "%config InlineBackend.figure_format = 'retina'\r\n",
    "\r\n",
    "import numpy as np\r\n",
    "import torch\r\n",
    "\r\n",
    "import helper\r\n",
    "\r\n",
    "import matplotlib.pyplot as plt"
   ],
   "outputs": [],
   "metadata": {
    "collapsed": true
   }
  },
  {
   "cell_type": "markdown",
   "source": [
    "\n",
    "Now we're going to build a larger network that can solve a (formerly) difficult problem, identifying text in an image. Here we'll use the MNIST dataset which consists of greyscale handwritten digits. Each image is 28x28 pixels, you can see a sample below\n",
    "\n",
    "<img src='assets/mnist.png'>\n",
    "\n",
    "Our goal is to build a neural network that can take one of these images and predict the digit in the image.\n",
    "\n",
    "First up, we need to get our dataset. This is provided through the `torchvision` package. The code below will download the MNIST dataset, then create training and test datasets for us. Don't worry too much about the details here, you'll learn more about this later."
   ],
   "metadata": {}
  },
  {
   "cell_type": "code",
   "execution_count": 2,
   "source": [
    "# The MNIST datasets are hosted on yann.lecun.com that has moved under CloudFlare protection\r\n",
    "# Run this script to enable the datasets download\r\n",
    "# Reference: https://github.com/pytorch/vision/issues/1938\r\n",
    "\r\n",
    "from six.moves import urllib\r\n",
    "opener = urllib.request.build_opener()\r\n",
    "opener.addheaders = [('User-agent', 'Mozilla/5.0')]\r\n",
    "urllib.request.install_opener(opener)"
   ],
   "outputs": [],
   "metadata": {}
  },
  {
   "cell_type": "code",
   "execution_count": 3,
   "source": [
    "### Run this cell\r\n",
    "\r\n",
    "from torchvision import datasets, transforms\r\n",
    "\r\n",
    "# Define a transform to normalize the data\r\n",
    "transform = transforms.Compose([transforms.ToTensor(),\r\n",
    "                              transforms.Normalize((0.5,), (0.5,)),\r\n",
    "                              ])\r\n",
    "\r\n",
    "# Download and load the training data\r\n",
    "trainset = datasets.MNIST('~/.pytorch/MNIST_data/', download=True, train=True, transform=transform)\r\n",
    "trainloader = torch.utils.data.DataLoader(trainset, batch_size=64, shuffle=True)"
   ],
   "outputs": [
    {
     "output_type": "stream",
     "name": "stdout",
     "text": [
      "Downloading http://yann.lecun.com/exdb/mnist/train-images-idx3-ubyte.gz\n",
      "Downloading http://yann.lecun.com/exdb/mnist/train-images-idx3-ubyte.gz to C:\\Users\\paechr/.pytorch/MNIST_data/MNIST\\raw\\train-images-idx3-ubyte.gz\n"
     ]
    },
    {
     "output_type": "stream",
     "name": "stderr",
     "text": [
      "100.0%\n"
     ]
    },
    {
     "output_type": "stream",
     "name": "stdout",
     "text": [
      "Extracting C:\\Users\\paechr/.pytorch/MNIST_data/MNIST\\raw\\train-images-idx3-ubyte.gz to C:\\Users\\paechr/.pytorch/MNIST_data/MNIST\\raw\n",
      "\n",
      "Downloading http://yann.lecun.com/exdb/mnist/train-labels-idx1-ubyte.gz\n",
      "Downloading http://yann.lecun.com/exdb/mnist/train-labels-idx1-ubyte.gz to C:\\Users\\paechr/.pytorch/MNIST_data/MNIST\\raw\\train-labels-idx1-ubyte.gz\n"
     ]
    },
    {
     "output_type": "stream",
     "name": "stderr",
     "text": [
      "102.8%\n"
     ]
    },
    {
     "output_type": "stream",
     "name": "stdout",
     "text": [
      "Extracting C:\\Users\\paechr/.pytorch/MNIST_data/MNIST\\raw\\train-labels-idx1-ubyte.gz to C:\\Users\\paechr/.pytorch/MNIST_data/MNIST\\raw\n",
      "\n",
      "Downloading http://yann.lecun.com/exdb/mnist/t10k-images-idx3-ubyte.gz\n",
      "Downloading http://yann.lecun.com/exdb/mnist/t10k-images-idx3-ubyte.gz to C:\\Users\\paechr/.pytorch/MNIST_data/MNIST\\raw\\t10k-images-idx3-ubyte.gz\n"
     ]
    },
    {
     "output_type": "stream",
     "name": "stderr",
     "text": [
      "100.0%\n"
     ]
    },
    {
     "output_type": "stream",
     "name": "stdout",
     "text": [
      "Extracting C:\\Users\\paechr/.pytorch/MNIST_data/MNIST\\raw\\t10k-images-idx3-ubyte.gz to C:\\Users\\paechr/.pytorch/MNIST_data/MNIST\\raw\n",
      "\n",
      "Downloading http://yann.lecun.com/exdb/mnist/t10k-labels-idx1-ubyte.gz\n",
      "Downloading http://yann.lecun.com/exdb/mnist/t10k-labels-idx1-ubyte.gz to C:\\Users\\paechr/.pytorch/MNIST_data/MNIST\\raw\\t10k-labels-idx1-ubyte.gz\n"
     ]
    },
    {
     "output_type": "stream",
     "name": "stderr",
     "text": [
      "112.7%"
     ]
    },
    {
     "output_type": "stream",
     "name": "stdout",
     "text": [
      "Extracting C:\\Users\\paechr/.pytorch/MNIST_data/MNIST\\raw\\t10k-labels-idx1-ubyte.gz to C:\\Users\\paechr/.pytorch/MNIST_data/MNIST\\raw\n",
      "\n"
     ]
    },
    {
     "output_type": "stream",
     "name": "stderr",
     "text": [
      "\n",
      "C:\\Users\\paechr\\AppData\\Roaming\\Python\\Python39\\site-packages\\torchvision\\datasets\\mnist.py:498: UserWarning: The given NumPy array is not writeable, and PyTorch does not support non-writeable tensors. This means you can write to the underlying (supposedly non-writeable) NumPy array using the tensor. You may want to copy the array to protect its data or make it writeable before converting it to a tensor. This type of warning will be suppressed for the rest of this program. (Triggered internally at  ..\\torch\\csrc\\utils\\tensor_numpy.cpp:180.)\n",
      "  return torch.from_numpy(parsed.astype(m[2], copy=False)).view(*s)\n"
     ]
    }
   ],
   "metadata": {
    "collapsed": true
   }
  },
  {
   "cell_type": "markdown",
   "source": [
    "We have the training data loaded into `trainloader` and we make that an iterator with `iter(trainloader)`. Later, we'll use this to loop through the dataset for training, like\n",
    "\n",
    "```python\n",
    "for image, label in trainloader:\n",
    "    ## do things with images and labels\n",
    "```\n",
    "\n",
    "You'll notice I created the `trainloader` with a batch size of 64, and `shuffle=True`. The batch size is the number of images we get in one iteration from the data loader and pass through our network, often called a *batch*. And `shuffle=True` tells it to shuffle the dataset every time we start going through the data loader again. But here I'm just grabbing the first batch so we can check out the data. We can see below that `images` is just a tensor with size `(64, 1, 28, 28)`. So, 64 images per batch, 1 color channel, and 28x28 images."
   ],
   "metadata": {}
  },
  {
   "cell_type": "code",
   "execution_count": 4,
   "source": [
    "dataiter = iter(trainloader)\r\n",
    "images, labels = dataiter.next()\r\n",
    "print(type(images))\r\n",
    "print(images.shape)\r\n",
    "print(labels.shape)"
   ],
   "outputs": [
    {
     "output_type": "stream",
     "name": "stdout",
     "text": [
      "<class 'torch.Tensor'>\n",
      "torch.Size([64, 1, 28, 28])\n",
      "torch.Size([64])\n"
     ]
    }
   ],
   "metadata": {
    "collapsed": true
   }
  },
  {
   "cell_type": "markdown",
   "source": [
    "This is what one of the images looks like. "
   ],
   "metadata": {}
  },
  {
   "cell_type": "code",
   "execution_count": 5,
   "source": [
    "plt.imshow(images[1].numpy().squeeze(), cmap='Greys_r');"
   ],
   "outputs": [
    {
     "output_type": "display_data",
     "data": {
      "image/png": "[encoded data removed]",
      "text/plain": [
       "<Figure size 432x288 with 1 Axes>"
      ]
     },
     "metadata": {
      "image/png": {
       "width": 251,
       "height": 248
      },
      "needs_background": "light"
     }
    }
   ],
   "metadata": {
    "collapsed": true
   }
  },
  {
   "cell_type": "markdown",
   "source": [
    "First, let's try to build a simple network for this dataset using weight matrices and matrix multiplications. Then, we'll see how to do it using PyTorch's `nn` module which provides a much more convenient and powerful method for defining network architectures.\n",
    "\n",
    "The networks you've seen so far are called *fully-connected* or *dense* networks. Each unit in one layer is connected to each unit in the next layer. In fully-connected networks, the input to each layer must be a one-dimensional vector (which can be stacked into a 2D tensor as a batch of multiple examples). However, our images are 28x28 2D tensors, so we need to convert them into 1D vectors. Thinking about sizes, we need to convert the batch of images with shape `(64, 1, 28, 28)` to a have a shape of `(64, 784)`, 784 is 28 times 28. This is typically called *flattening*, we flattened the 2D images into 1D vectors.\n",
    "\n",
    "Previously you built a network with one output unit. Here we need 10 output units, one for each digit. We want our network to predict the digit shown in an image, so what we'll do is calculate probabilities that the image is of any one digit or class. This ends up being a discrete probability distribution over the classes (digits) that tells us the most likely class for the image. That means we need 10 output units for the 10 classes (digits). We'll see how to convert the network output into a probability distribution next.\n",
    "\n",
    "> **Exercise:** Flatten the batch of images `images`. Then build a multi-layer network with 784 input units, 256 hidden units, and 10 output units using random tensors for the weights and biases. For now, use a sigmoid activation for the hidden layer. Leave the output layer without an activation, we'll add one that gives us a probability distribution next."
   ],
   "metadata": {}
  },
  {
   "cell_type": "code",
   "execution_count": 11,
   "source": [
    "## Your solution\r\n",
    "def activation(x):\r\n",
    "    return 1 / (1 + torch.exp(-x))\r\n",
    "\r\n",
    "torch.manual_seed(7)\r\n",
    "\r\n",
    "input = torch.flatten(images, start_dim=1)\r\n",
    "\r\n",
    "num_input = input.shape[1]\r\n",
    "num_hidden = 256\r\n",
    "num_output = 10\r\n",
    "\r\n",
    "hidden_weights = torch.randn(num_input, num_hidden)\r\n",
    "hidden_bias = torch.randn(1, num_hidden)\r\n",
    "\r\n",
    "output_weights = torch.randn(num_hidden, num_output)\r\n",
    "output_bias = torch.randn(1, num_output)\r\n",
    "\r\n",
    "hidden_result = activation(torch.mm(input, hidden_weights) + hidden_bias)\r\n",
    "\r\n",
    "# output of your network, should have shape (64,10)\r\n",
    "out = torch.mm(hidden_result, output_weights) + output_bias\r\n",
    "out.shape"
   ],
   "outputs": [
    {
     "output_type": "execute_result",
     "data": {
      "text/plain": [
       "torch.Size([64, 10])"
      ]
     },
     "metadata": {},
     "execution_count": 11
    }
   ],
   "metadata": {
    "collapsed": true
   }
  },
  {
   "cell_type": "markdown",
   "source": [
    "Now we have 10 outputs for our network. We want to pass in an image to our network and get out a probability distribution over the classes that tells us the likely class(es) the image belongs to. Something that looks like this:\n",
    "<img src='assets/image_distribution.png' width=500px>\n",
    "\n",
    "Here we see that the probability for each class is roughly the same. This is representing an untrained network, it hasn't seen any data yet so it just returns a uniform distribution with equal probabilities for each class.\n",
    "\n",
    "To calculate this probability distribution, we often use the [**softmax** function](https://en.wikipedia.org/wiki/Softmax_function). Mathematically this looks like\n",
    "\n",
    "$$\n",
    "\\Large \\sigma(x_i) = \\cfrac{e^{x_i}}{\\sum_k^K{e^{x_k}}}\n",
    "$$\n",
    "\n",
    "What this does is squish each input $x_i$ between 0 and 1 and normalizes the values to give you a proper probability distribution where the probabilites sum up to one.\n",
    "\n",
    "> **Exercise:** Implement a function `softmax` that performs the softmax calculation and returns probability distributions for each example in the batch. Note that you'll need to pay attention to the shapes when doing this. If you have a tensor `a` with shape `(64, 10)` and a tensor `b` with shape `(64,)`, doing `a/b` will give you an error because PyTorch will try to do the division across the columns (called broadcasting) but you'll get a size mismatch. The way to think about this is for each of the 64 examples, you only want to divide by one value, the sum in the denominator. So you need `b` to have a shape of `(64, 1)`. This way PyTorch will divide the 10 values in each row of `a` by the one value in each row of `b`. Pay attention to how you take the sum as well. You'll need to define the `dim` keyword in `torch.sum`. Setting `dim=0` takes the sum across the rows while `dim=1` takes the sum across the columns."
   ],
   "metadata": {}
  },
  {
   "cell_type": "code",
   "execution_count": 28,
   "source": [
    "torch.exp(out) / torch.exp(out).sum(dim=1, keepdim=True)"
   ],
   "outputs": [
    {
     "output_type": "execute_result",
     "data": {
      "text/plain": [
       "tensor([[6.2859e-05, 2.3632e-07, 1.0414e-06, 3.4628e-07, 2.1920e-09, 6.4712e-06,\n",
       "         9.5434e-05, 1.0604e-04, 9.9973e-01, 1.8646e-07],\n",
       "        [9.9042e-01, 3.9478e-10, 2.1386e-05, 7.3866e-04, 5.1440e-04, 8.2260e-03,\n",
       "         1.3931e-07, 6.5909e-05, 1.7340e-05, 2.0255e-09],\n",
       "        [5.1752e-06, 8.5501e-06, 3.0114e-02, 6.6478e-03, 1.0973e-06, 9.6249e-01,\n",
       "         6.8819e-07, 4.9091e-08, 3.6149e-04, 3.6999e-04],\n",
       "        [2.6066e-02, 7.5651e-07, 1.5906e-02, 4.1587e-05, 1.9601e-07, 9.5789e-01,\n",
       "         8.8071e-09, 2.2595e-11, 9.3382e-05, 1.9496e-10],\n",
       "        [3.2055e-05, 6.1813e-07, 5.7244e-07, 2.6817e-13, 2.5635e-03, 9.9740e-01,\n",
       "         8.2149e-08, 1.8434e-08, 2.5275e-06, 4.8809e-09],\n",
       "        [3.0469e-07, 3.9468e-13, 5.2600e-08, 5.2180e-11, 7.4401e-09, 9.9999e-01,\n",
       "         6.9154e-08, 3.0386e-09, 1.3430e-05, 1.8491e-07],\n",
       "        [8.7941e-02, 2.1152e-03, 7.2449e-01, 3.4675e-03, 4.7527e-05, 1.8090e-01,\n",
       "         1.2660e-07, 2.1054e-06, 1.0441e-03, 3.3298e-09],\n",
       "        [8.7793e-08, 3.3257e-11, 2.1107e-07, 1.0870e-09, 1.5828e-11, 9.9998e-01,\n",
       "         7.1229e-12, 5.7507e-06, 1.1175e-05, 2.9808e-14],\n",
       "        [1.7215e-03, 2.5272e-09, 3.3474e-02, 2.1821e-03, 4.6232e-03, 9.5355e-01,\n",
       "         3.6254e-08, 1.2502e-07, 2.7840e-03, 1.6659e-03],\n",
       "        [2.3849e-06, 4.0638e-09, 1.3657e-04, 1.0067e-11, 1.1955e-07, 3.8237e-04,\n",
       "         6.0770e-10, 1.1010e-04, 9.9937e-01, 1.3586e-06],\n",
       "        [1.0547e-03, 4.3528e-09, 2.4137e-05, 6.6986e-04, 1.3820e-06, 9.9470e-01,\n",
       "         1.0811e-08, 2.4178e-05, 3.5289e-03, 1.9367e-11],\n",
       "        [1.4547e-05, 3.7867e-05, 7.4835e-06, 1.8266e-04, 4.3208e-03, 7.7473e-01,\n",
       "         7.0957e-04, 1.8691e-10, 2.2000e-01, 3.3636e-09],\n",
       "        [3.5486e-03, 2.2810e-08, 9.6561e-06, 2.2460e-05, 4.4577e-03, 9.9069e-01,\n",
       "         1.0006e-06, 9.7740e-09, 1.2688e-03, 9.8091e-08],\n",
       "        [3.4413e-02, 2.0387e-07, 3.1414e-06, 8.7849e-05, 1.0292e-02, 9.5456e-01,\n",
       "         1.6731e-11, 4.1162e-06, 6.4126e-04, 6.5274e-08],\n",
       "        [3.3072e-03, 5.0125e-06, 6.6002e-03, 7.2960e-05, 1.4272e-08, 6.1565e-02,\n",
       "         1.6290e-03, 1.6044e-04, 9.2666e-01, 3.0076e-07],\n",
       "        [1.2843e-07, 5.3441e-07, 1.7683e-07, 3.7260e-10, 4.4972e-06, 9.9975e-01,\n",
       "         4.9780e-06, 8.8874e-12, 2.3752e-04, 5.9236e-10],\n",
       "        [1.4409e-04, 1.5115e-07, 2.2345e-02, 4.8264e-05, 1.0206e-05, 9.4830e-02,\n",
       "         8.8262e-01, 4.7696e-09, 3.8133e-06, 8.4590e-10],\n",
       "        [9.3501e-01, 5.0714e-05, 1.9892e-06, 7.6681e-05, 2.0503e-03, 6.2498e-02,\n",
       "         9.7522e-09, 1.6420e-07, 3.0928e-04, 3.5402e-07],\n",
       "        [1.2527e-01, 9.8560e-04, 3.3731e-02, 1.1440e-06, 7.7180e-01, 5.9733e-02,\n",
       "         3.9173e-07, 1.9342e-06, 8.4818e-03, 1.9216e-08],\n",
       "        [7.6410e-01, 2.3713e-09, 2.0896e-01, 2.3934e-07, 9.1584e-06, 1.5947e-02,\n",
       "         4.5655e-08, 1.8831e-07, 1.0411e-02, 5.7056e-04],\n",
       "        [6.8489e-05, 1.0056e-07, 1.8799e-04, 2.6609e-09, 6.7299e-05, 9.9967e-01,\n",
       "         2.2716e-08, 5.9576e-08, 2.6317e-06, 9.2707e-10],\n",
       "        [2.2083e-04, 1.7901e-06, 3.0493e-02, 5.2869e-04, 3.8319e-06, 9.2857e-01,\n",
       "         3.4039e-06, 5.1759e-03, 3.4993e-02, 4.0563e-06],\n",
       "        [2.5915e-05, 9.5330e-08, 1.2492e-07, 9.1015e-10, 1.2279e-05, 9.9708e-01,\n",
       "         1.5490e-03, 3.2861e-09, 1.3292e-03, 1.9624e-11],\n",
       "        [2.1089e-03, 1.3147e-06, 9.5371e-01, 5.8116e-08, 6.0115e-07, 4.4098e-02,\n",
       "         4.7898e-08, 1.2327e-06, 7.7805e-05, 2.4731e-08],\n",
       "        [3.8962e-03, 4.8771e-14, 2.9550e-06, 1.2397e-08, 5.0414e-10, 9.9610e-01,\n",
       "         7.0975e-09, 5.3526e-10, 1.6460e-08, 1.5053e-08],\n",
       "        [2.5483e-05, 8.2952e-12, 4.1534e-05, 1.2282e-04, 1.6738e-05, 9.9960e-01,\n",
       "         1.1693e-05, 2.0511e-06, 1.8026e-04, 4.9659e-09],\n",
       "        [2.7695e-06, 4.1993e-05, 2.4909e-05, 2.2768e-07, 1.0931e-05, 9.9509e-01,\n",
       "         1.2419e-07, 6.1732e-08, 4.8278e-03, 1.7178e-07],\n",
       "        [1.8474e-07, 1.4597e-11, 1.4392e-09, 1.3048e-05, 6.1187e-08, 9.6052e-01,\n",
       "         1.0743e-07, 1.5518e-06, 3.9464e-02, 3.0163e-08],\n",
       "        [4.1801e-06, 9.5066e-08, 4.9650e-05, 2.3462e-06, 1.6926e-02, 9.8293e-01,\n",
       "         4.5126e-05, 1.6369e-07, 4.4831e-05, 6.9865e-08],\n",
       "        [4.5418e-06, 1.1182e-05, 4.3528e-03, 6.9991e-09, 3.5861e-11, 9.9563e-01,\n",
       "         9.2595e-09, 3.7110e-15, 1.1567e-11, 7.7376e-10],\n",
       "        [7.3051e-03, 2.6042e-07, 1.0910e-03, 5.7758e-05, 1.3097e-04, 9.0153e-01,\n",
       "         8.1098e-02, 6.0306e-04, 3.9046e-05, 8.1402e-03],\n",
       "        [2.1215e-08, 2.9127e-08, 4.8000e-06, 1.2449e-09, 1.4069e-03, 9.9839e-01,\n",
       "         1.4091e-07, 2.4424e-06, 1.9263e-04, 7.5698e-07],\n",
       "        [8.7167e-03, 2.0571e-08, 2.9758e-01, 2.7148e-06, 1.1931e-09, 6.8562e-01,\n",
       "         8.0770e-03, 6.7730e-10, 2.0365e-07, 1.9181e-09],\n",
       "        [1.4389e-01, 4.6827e-07, 3.2460e-01, 2.2294e-05, 5.0306e-05, 5.3058e-01,\n",
       "         9.0919e-05, 1.4461e-06, 7.6132e-04, 3.9618e-07],\n",
       "        [6.1395e-05, 1.1506e-11, 1.3030e-05, 5.9668e-03, 3.7879e-05, 9.9391e-01,\n",
       "         5.6804e-11, 8.2501e-10, 1.5057e-05, 6.3040e-09],\n",
       "        [7.0941e-05, 1.0074e-03, 4.3572e-03, 9.6025e-10, 1.0185e-04, 9.9314e-01,\n",
       "         1.2127e-03, 1.0627e-04, 6.0795e-06, 4.7013e-10],\n",
       "        [1.1068e-04, 7.7820e-08, 2.0166e-03, 2.2312e-08, 7.9150e-01, 2.0628e-01,\n",
       "         2.6887e-06, 2.5827e-07, 8.6015e-05, 1.3422e-06],\n",
       "        [8.9149e-02, 3.4154e-11, 2.1228e-05, 7.5400e-05, 8.7751e-04, 8.9924e-01,\n",
       "         1.5978e-09, 9.3532e-07, 1.0632e-02, 7.3076e-06],\n",
       "        [1.3773e-06, 7.7275e-13, 1.2619e-08, 8.3407e-11, 1.0956e-08, 1.0000e+00,\n",
       "         1.0426e-10, 6.3283e-09, 1.5695e-06, 1.0984e-06],\n",
       "        [9.6086e-06, 6.5458e-13, 9.1535e-07, 5.4066e-10, 2.2137e-10, 9.9999e-01,\n",
       "         3.8331e-09, 3.8911e-12, 3.9406e-06, 2.6666e-07],\n",
       "        [9.8165e-01, 6.4305e-11, 7.7479e-04, 1.6785e-04, 7.8426e-08, 2.8093e-03,\n",
       "         6.4252e-11, 8.4702e-08, 1.4600e-02, 2.5146e-09],\n",
       "        [2.5113e-02, 4.3479e-04, 2.8778e-01, 3.5660e-04, 2.1026e-03, 6.8420e-01,\n",
       "         5.3273e-06, 2.8172e-12, 3.3991e-06, 2.4996e-06],\n",
       "        [1.5717e-05, 7.2155e-12, 1.3135e-05, 5.0825e-08, 1.8941e-07, 2.8482e-01,\n",
       "         4.7794e-11, 2.7623e-05, 7.1511e-01, 1.2020e-05],\n",
       "        [5.6093e-03, 1.0391e-06, 2.0449e-01, 1.3931e-03, 8.0645e-05, 7.6123e-01,\n",
       "         1.3160e-08, 5.0753e-06, 2.7186e-02, 1.6491e-07],\n",
       "        [1.4236e-04, 1.3126e-07, 5.5100e-05, 2.3003e-12, 2.2217e-07, 8.9789e-01,\n",
       "         8.6406e-09, 3.2938e-09, 1.0191e-01, 2.1159e-14],\n",
       "        [1.3982e-04, 1.1873e-08, 6.5405e-06, 3.9594e-09, 1.0957e-03, 1.3448e-01,\n",
       "         6.7216e-09, 1.9948e-05, 8.6426e-01, 5.2444e-07],\n",
       "        [6.7220e-01, 1.2014e-10, 3.8441e-02, 1.3956e-03, 2.0317e-05, 2.8776e-01,\n",
       "         1.1345e-11, 4.2191e-07, 1.7647e-04, 4.0853e-08],\n",
       "        [9.9127e-01, 5.1169e-07, 5.4290e-03, 6.2742e-06, 9.4061e-09, 3.2905e-03,\n",
       "         5.0278e-12, 1.2015e-08, 3.3676e-07, 2.0985e-11],\n",
       "        [3.6234e-05, 5.0079e-07, 2.0215e-01, 3.1719e-06, 5.1150e-03, 4.2382e-03,\n",
       "         1.5750e-07, 9.4061e-11, 7.8846e-01, 3.3492e-08],\n",
       "        [2.2179e-02, 2.3030e-04, 4.0066e-04, 3.5809e-04, 2.3736e-06, 7.8006e-01,\n",
       "         4.9356e-05, 6.1534e-04, 1.9478e-01, 1.3202e-03],\n",
       "        [1.4943e-01, 2.8753e-04, 5.4899e-01, 9.4056e-02, 1.6713e-02, 1.8999e-01,\n",
       "         3.4729e-07, 3.8230e-05, 4.9468e-04, 6.0761e-07],\n",
       "        [2.7177e-04, 2.0383e-13, 1.1241e-07, 5.1616e-10, 5.4800e-07, 9.9970e-01,\n",
       "         9.5674e-10, 3.6329e-10, 2.8696e-06, 2.2218e-05],\n",
       "        [7.7530e-02, 5.5206e-12, 1.1425e-04, 5.3301e-07, 3.9918e-06, 9.2233e-01,\n",
       "         4.2581e-08, 1.0664e-08, 5.6607e-07, 1.7958e-05],\n",
       "        [1.6330e-08, 2.0892e-10, 3.0619e-03, 5.9320e-06, 4.9861e-10, 1.7689e-02,\n",
       "         6.1312e-12, 6.7393e-06, 9.7922e-01, 1.2335e-05],\n",
       "        [2.2257e-07, 1.2870e-07, 9.2282e-06, 2.8434e-06, 1.2643e-05, 9.9791e-01,\n",
       "         2.7367e-06, 4.0063e-08, 2.0600e-03, 7.8557e-09],\n",
       "        [1.1338e-08, 2.0479e-11, 4.4830e-05, 1.2446e-08, 9.9979e-01, 8.3995e-05,\n",
       "         5.0024e-08, 7.7780e-05, 3.4450e-10, 1.4701e-07],\n",
       "        [7.1800e-03, 2.6788e-05, 3.6847e-03, 1.5891e-05, 1.1225e-05, 9.8548e-01,\n",
       "         3.5969e-03, 1.5548e-10, 1.2816e-06, 1.1972e-09],\n",
       "        [1.5747e-03, 8.6860e-04, 1.6548e-01, 5.5702e-05, 1.2108e-06, 7.4048e-02,\n",
       "         1.7212e-03, 3.4588e-07, 7.5625e-01, 1.1032e-09],\n",
       "        [3.6227e-04, 2.5067e-09, 4.7106e-08, 2.2399e-06, 2.0185e-08, 9.9956e-01,\n",
       "         3.5598e-09, 1.0757e-12, 7.5805e-05, 1.2509e-10],\n",
       "        [8.6204e-01, 6.9622e-09, 1.2416e-03, 1.4046e-05, 6.3528e-02, 2.6470e-02,\n",
       "         1.2788e-06, 4.5825e-09, 4.6706e-02, 1.2265e-10],\n",
       "        [9.2807e-01, 3.5951e-09, 6.3474e-02, 1.1492e-05, 1.0841e-04, 5.7832e-04,\n",
       "         1.4121e-07, 4.3297e-08, 7.7591e-03, 6.5184e-12],\n",
       "        [5.6510e-03, 4.3020e-09, 6.9984e-01, 2.5208e-11, 3.9829e-07, 2.9445e-01,\n",
       "         1.8842e-09, 5.8190e-09, 5.7344e-05, 7.1411e-15],\n",
       "        [1.6014e-01, 1.0170e-05, 9.4113e-04, 7.1495e-01, 1.2554e-05, 1.2258e-01,\n",
       "         4.3162e-07, 1.4137e-07, 1.3710e-03, 2.2474e-08],\n",
       "        [3.8051e-01, 1.9266e-10, 1.7217e-05, 2.9378e-06, 1.1759e-06, 6.0982e-01,\n",
       "         3.6026e-06, 1.1946e-06, 7.1039e-05, 9.5709e-03]])"
      ]
     },
     "metadata": {},
     "execution_count": 28
    }
   ],
   "metadata": {}
  },
  {
   "cell_type": "code",
   "execution_count": 29,
   "source": [
    "torch.exp(out) / torch.exp(out).sum(dim=1).view(-1, 1)"
   ],
   "outputs": [
    {
     "output_type": "execute_result",
     "data": {
      "text/plain": [
       "tensor([[6.2859e-05, 2.3632e-07, 1.0414e-06, 3.4628e-07, 2.1920e-09, 6.4712e-06,\n",
       "         9.5434e-05, 1.0604e-04, 9.9973e-01, 1.8646e-07],\n",
       "        [9.9042e-01, 3.9478e-10, 2.1386e-05, 7.3866e-04, 5.1440e-04, 8.2260e-03,\n",
       "         1.3931e-07, 6.5909e-05, 1.7340e-05, 2.0255e-09],\n",
       "        [5.1752e-06, 8.5501e-06, 3.0114e-02, 6.6478e-03, 1.0973e-06, 9.6249e-01,\n",
       "         6.8819e-07, 4.9091e-08, 3.6149e-04, 3.6999e-04],\n",
       "        [2.6066e-02, 7.5651e-07, 1.5906e-02, 4.1587e-05, 1.9601e-07, 9.5789e-01,\n",
       "         8.8071e-09, 2.2595e-11, 9.3382e-05, 1.9496e-10],\n",
       "        [3.2055e-05, 6.1813e-07, 5.7244e-07, 2.6817e-13, 2.5635e-03, 9.9740e-01,\n",
       "         8.2149e-08, 1.8434e-08, 2.5275e-06, 4.8809e-09],\n",
       "        [3.0469e-07, 3.9468e-13, 5.2600e-08, 5.2180e-11, 7.4401e-09, 9.9999e-01,\n",
       "         6.9154e-08, 3.0386e-09, 1.3430e-05, 1.8491e-07],\n",
       "        [8.7941e-02, 2.1152e-03, 7.2449e-01, 3.4675e-03, 4.7527e-05, 1.8090e-01,\n",
       "         1.2660e-07, 2.1054e-06, 1.0441e-03, 3.3298e-09],\n",
       "        [8.7793e-08, 3.3257e-11, 2.1107e-07, 1.0870e-09, 1.5828e-11, 9.9998e-01,\n",
       "         7.1229e-12, 5.7507e-06, 1.1175e-05, 2.9808e-14],\n",
       "        [1.7215e-03, 2.5272e-09, 3.3474e-02, 2.1821e-03, 4.6232e-03, 9.5355e-01,\n",
       "         3.6254e-08, 1.2502e-07, 2.7840e-03, 1.6659e-03],\n",
       "        [2.3849e-06, 4.0638e-09, 1.3657e-04, 1.0067e-11, 1.1955e-07, 3.8237e-04,\n",
       "         6.0770e-10, 1.1010e-04, 9.9937e-01, 1.3586e-06],\n",
       "        [1.0547e-03, 4.3528e-09, 2.4137e-05, 6.6986e-04, 1.3820e-06, 9.9470e-01,\n",
       "         1.0811e-08, 2.4178e-05, 3.5289e-03, 1.9367e-11],\n",
       "        [1.4547e-05, 3.7867e-05, 7.4835e-06, 1.8266e-04, 4.3208e-03, 7.7473e-01,\n",
       "         7.0957e-04, 1.8691e-10, 2.2000e-01, 3.3636e-09],\n",
       "        [3.5486e-03, 2.2810e-08, 9.6561e-06, 2.2460e-05, 4.4577e-03, 9.9069e-01,\n",
       "         1.0006e-06, 9.7740e-09, 1.2688e-03, 9.8091e-08],\n",
       "        [3.4413e-02, 2.0387e-07, 3.1414e-06, 8.7849e-05, 1.0292e-02, 9.5456e-01,\n",
       "         1.6731e-11, 4.1162e-06, 6.4126e-04, 6.5274e-08],\n",
       "        [3.3072e-03, 5.0125e-06, 6.6002e-03, 7.2960e-05, 1.4272e-08, 6.1565e-02,\n",
       "         1.6290e-03, 1.6044e-04, 9.2666e-01, 3.0076e-07],\n",
       "        [1.2843e-07, 5.3441e-07, 1.7683e-07, 3.7260e-10, 4.4972e-06, 9.9975e-01,\n",
       "         4.9780e-06, 8.8874e-12, 2.3752e-04, 5.9236e-10],\n",
       "        [1.4409e-04, 1.5115e-07, 2.2345e-02, 4.8264e-05, 1.0206e-05, 9.4830e-02,\n",
       "         8.8262e-01, 4.7696e-09, 3.8133e-06, 8.4590e-10],\n",
       "        [9.3501e-01, 5.0714e-05, 1.9892e-06, 7.6681e-05, 2.0503e-03, 6.2498e-02,\n",
       "         9.7522e-09, 1.6420e-07, 3.0928e-04, 3.5402e-07],\n",
       "        [1.2527e-01, 9.8560e-04, 3.3731e-02, 1.1440e-06, 7.7180e-01, 5.9733e-02,\n",
       "         3.9173e-07, 1.9342e-06, 8.4818e-03, 1.9216e-08],\n",
       "        [7.6410e-01, 2.3713e-09, 2.0896e-01, 2.3934e-07, 9.1584e-06, 1.5947e-02,\n",
       "         4.5655e-08, 1.8831e-07, 1.0411e-02, 5.7056e-04],\n",
       "        [6.8489e-05, 1.0056e-07, 1.8799e-04, 2.6609e-09, 6.7299e-05, 9.9967e-01,\n",
       "         2.2716e-08, 5.9576e-08, 2.6317e-06, 9.2707e-10],\n",
       "        [2.2083e-04, 1.7901e-06, 3.0493e-02, 5.2869e-04, 3.8319e-06, 9.2857e-01,\n",
       "         3.4039e-06, 5.1759e-03, 3.4993e-02, 4.0563e-06],\n",
       "        [2.5915e-05, 9.5330e-08, 1.2492e-07, 9.1015e-10, 1.2279e-05, 9.9708e-01,\n",
       "         1.5490e-03, 3.2861e-09, 1.3292e-03, 1.9624e-11],\n",
       "        [2.1089e-03, 1.3147e-06, 9.5371e-01, 5.8116e-08, 6.0115e-07, 4.4098e-02,\n",
       "         4.7898e-08, 1.2327e-06, 7.7805e-05, 2.4731e-08],\n",
       "        [3.8962e-03, 4.8771e-14, 2.9550e-06, 1.2397e-08, 5.0414e-10, 9.9610e-01,\n",
       "         7.0975e-09, 5.3526e-10, 1.6460e-08, 1.5053e-08],\n",
       "        [2.5483e-05, 8.2952e-12, 4.1534e-05, 1.2282e-04, 1.6738e-05, 9.9960e-01,\n",
       "         1.1693e-05, 2.0511e-06, 1.8026e-04, 4.9659e-09],\n",
       "        [2.7695e-06, 4.1993e-05, 2.4909e-05, 2.2768e-07, 1.0931e-05, 9.9509e-01,\n",
       "         1.2419e-07, 6.1732e-08, 4.8278e-03, 1.7178e-07],\n",
       "        [1.8474e-07, 1.4597e-11, 1.4392e-09, 1.3048e-05, 6.1187e-08, 9.6052e-01,\n",
       "         1.0743e-07, 1.5518e-06, 3.9464e-02, 3.0163e-08],\n",
       "        [4.1801e-06, 9.5066e-08, 4.9650e-05, 2.3462e-06, 1.6926e-02, 9.8293e-01,\n",
       "         4.5126e-05, 1.6369e-07, 4.4831e-05, 6.9865e-08],\n",
       "        [4.5418e-06, 1.1182e-05, 4.3528e-03, 6.9991e-09, 3.5861e-11, 9.9563e-01,\n",
       "         9.2595e-09, 3.7110e-15, 1.1567e-11, 7.7376e-10],\n",
       "        [7.3051e-03, 2.6042e-07, 1.0910e-03, 5.7758e-05, 1.3097e-04, 9.0153e-01,\n",
       "         8.1098e-02, 6.0306e-04, 3.9046e-05, 8.1402e-03],\n",
       "        [2.1215e-08, 2.9127e-08, 4.8000e-06, 1.2449e-09, 1.4069e-03, 9.9839e-01,\n",
       "         1.4091e-07, 2.4424e-06, 1.9263e-04, 7.5698e-07],\n",
       "        [8.7167e-03, 2.0571e-08, 2.9758e-01, 2.7148e-06, 1.1931e-09, 6.8562e-01,\n",
       "         8.0770e-03, 6.7730e-10, 2.0365e-07, 1.9181e-09],\n",
       "        [1.4389e-01, 4.6827e-07, 3.2460e-01, 2.2294e-05, 5.0306e-05, 5.3058e-01,\n",
       "         9.0919e-05, 1.4461e-06, 7.6132e-04, 3.9618e-07],\n",
       "        [6.1395e-05, 1.1506e-11, 1.3030e-05, 5.9668e-03, 3.7879e-05, 9.9391e-01,\n",
       "         5.6804e-11, 8.2501e-10, 1.5057e-05, 6.3040e-09],\n",
       "        [7.0941e-05, 1.0074e-03, 4.3572e-03, 9.6025e-10, 1.0185e-04, 9.9314e-01,\n",
       "         1.2127e-03, 1.0627e-04, 6.0795e-06, 4.7013e-10],\n",
       "        [1.1068e-04, 7.7820e-08, 2.0166e-03, 2.2312e-08, 7.9150e-01, 2.0628e-01,\n",
       "         2.6887e-06, 2.5827e-07, 8.6015e-05, 1.3422e-06],\n",
       "        [8.9149e-02, 3.4154e-11, 2.1228e-05, 7.5400e-05, 8.7751e-04, 8.9924e-01,\n",
       "         1.5978e-09, 9.3532e-07, 1.0632e-02, 7.3076e-06],\n",
       "        [1.3773e-06, 7.7275e-13, 1.2619e-08, 8.3407e-11, 1.0956e-08, 1.0000e+00,\n",
       "         1.0426e-10, 6.3283e-09, 1.5695e-06, 1.0984e-06],\n",
       "        [9.6086e-06, 6.5458e-13, 9.1535e-07, 5.4066e-10, 2.2137e-10, 9.9999e-01,\n",
       "         3.8331e-09, 3.8911e-12, 3.9406e-06, 2.6666e-07],\n",
       "        [9.8165e-01, 6.4305e-11, 7.7479e-04, 1.6785e-04, 7.8426e-08, 2.8093e-03,\n",
       "         6.4252e-11, 8.4702e-08, 1.4600e-02, 2.5146e-09],\n",
       "        [2.5113e-02, 4.3479e-04, 2.8778e-01, 3.5660e-04, 2.1026e-03, 6.8420e-01,\n",
       "         5.3273e-06, 2.8172e-12, 3.3991e-06, 2.4996e-06],\n",
       "        [1.5717e-05, 7.2155e-12, 1.3135e-05, 5.0825e-08, 1.8941e-07, 2.8482e-01,\n",
       "         4.7794e-11, 2.7623e-05, 7.1511e-01, 1.2020e-05],\n",
       "        [5.6093e-03, 1.0391e-06, 2.0449e-01, 1.3931e-03, 8.0645e-05, 7.6123e-01,\n",
       "         1.3160e-08, 5.0753e-06, 2.7186e-02, 1.6491e-07],\n",
       "        [1.4236e-04, 1.3126e-07, 5.5100e-05, 2.3003e-12, 2.2217e-07, 8.9789e-01,\n",
       "         8.6406e-09, 3.2938e-09, 1.0191e-01, 2.1159e-14],\n",
       "        [1.3982e-04, 1.1873e-08, 6.5405e-06, 3.9594e-09, 1.0957e-03, 1.3448e-01,\n",
       "         6.7216e-09, 1.9948e-05, 8.6426e-01, 5.2444e-07],\n",
       "        [6.7220e-01, 1.2014e-10, 3.8441e-02, 1.3956e-03, 2.0317e-05, 2.8776e-01,\n",
       "         1.1345e-11, 4.2191e-07, 1.7647e-04, 4.0853e-08],\n",
       "        [9.9127e-01, 5.1169e-07, 5.4290e-03, 6.2742e-06, 9.4061e-09, 3.2905e-03,\n",
       "         5.0278e-12, 1.2015e-08, 3.3676e-07, 2.0985e-11],\n",
       "        [3.6234e-05, 5.0079e-07, 2.0215e-01, 3.1719e-06, 5.1150e-03, 4.2382e-03,\n",
       "         1.5750e-07, 9.4061e-11, 7.8846e-01, 3.3492e-08],\n",
       "        [2.2179e-02, 2.3030e-04, 4.0066e-04, 3.5809e-04, 2.3736e-06, 7.8006e-01,\n",
       "         4.9356e-05, 6.1534e-04, 1.9478e-01, 1.3202e-03],\n",
       "        [1.4943e-01, 2.8753e-04, 5.4899e-01, 9.4056e-02, 1.6713e-02, 1.8999e-01,\n",
       "         3.4729e-07, 3.8230e-05, 4.9468e-04, 6.0761e-07],\n",
       "        [2.7177e-04, 2.0383e-13, 1.1241e-07, 5.1616e-10, 5.4800e-07, 9.9970e-01,\n",
       "         9.5674e-10, 3.6329e-10, 2.8696e-06, 2.2218e-05],\n",
       "        [7.7530e-02, 5.5206e-12, 1.1425e-04, 5.3301e-07, 3.9918e-06, 9.2233e-01,\n",
       "         4.2581e-08, 1.0664e-08, 5.6607e-07, 1.7958e-05],\n",
       "        [1.6330e-08, 2.0892e-10, 3.0619e-03, 5.9320e-06, 4.9861e-10, 1.7689e-02,\n",
       "         6.1312e-12, 6.7393e-06, 9.7922e-01, 1.2335e-05],\n",
       "        [2.2257e-07, 1.2870e-07, 9.2282e-06, 2.8434e-06, 1.2643e-05, 9.9791e-01,\n",
       "         2.7367e-06, 4.0063e-08, 2.0600e-03, 7.8557e-09],\n",
       "        [1.1338e-08, 2.0479e-11, 4.4830e-05, 1.2446e-08, 9.9979e-01, 8.3995e-05,\n",
       "         5.0024e-08, 7.7780e-05, 3.4450e-10, 1.4701e-07],\n",
       "        [7.1800e-03, 2.6788e-05, 3.6847e-03, 1.5891e-05, 1.1225e-05, 9.8548e-01,\n",
       "         3.5969e-03, 1.5548e-10, 1.2816e-06, 1.1972e-09],\n",
       "        [1.5747e-03, 8.6860e-04, 1.6548e-01, 5.5702e-05, 1.2108e-06, 7.4048e-02,\n",
       "         1.7212e-03, 3.4588e-07, 7.5625e-01, 1.1032e-09],\n",
       "        [3.6227e-04, 2.5067e-09, 4.7106e-08, 2.2399e-06, 2.0185e-08, 9.9956e-01,\n",
       "         3.5598e-09, 1.0757e-12, 7.5805e-05, 1.2509e-10],\n",
       "        [8.6204e-01, 6.9622e-09, 1.2416e-03, 1.4046e-05, 6.3528e-02, 2.6470e-02,\n",
       "         1.2788e-06, 4.5825e-09, 4.6706e-02, 1.2265e-10],\n",
       "        [9.2807e-01, 3.5951e-09, 6.3474e-02, 1.1492e-05, 1.0841e-04, 5.7832e-04,\n",
       "         1.4121e-07, 4.3297e-08, 7.7591e-03, 6.5184e-12],\n",
       "        [5.6510e-03, 4.3020e-09, 6.9984e-01, 2.5208e-11, 3.9829e-07, 2.9445e-01,\n",
       "         1.8842e-09, 5.8190e-09, 5.7344e-05, 7.1411e-15],\n",
       "        [1.6014e-01, 1.0170e-05, 9.4113e-04, 7.1495e-01, 1.2554e-05, 1.2258e-01,\n",
       "         4.3162e-07, 1.4137e-07, 1.3710e-03, 2.2474e-08],\n",
       "        [3.8051e-01, 1.9266e-10, 1.7217e-05, 2.9378e-06, 1.1759e-06, 6.0982e-01,\n",
       "         3.6026e-06, 1.1946e-06, 7.1039e-05, 9.5709e-03]])"
      ]
     },
     "metadata": {},
     "execution_count": 29
    }
   ],
   "metadata": {}
  },
  {
   "cell_type": "code",
   "execution_count": 27,
   "source": [
    "## DONE: Implement the softmax function here\r\n",
    "def softmax(x):\r\n",
    "    return torch.exp(x) / torch.exp(x).sum(dim=1, keepdim=True)\r\n",
    "\r\n",
    "# Here, out should be the output of the network in the previous excercise with shape (64,10)\r\n",
    "probabilities = softmax(out)\r\n",
    "\r\n",
    "# Does it have the right shape? Should be (64, 10)\r\n",
    "print(probabilities.shape)\r\n",
    "# Does it sum to 1?\r\n",
    "print(probabilities.sum(dim=1))"
   ],
   "outputs": [
    {
     "output_type": "stream",
     "name": "stdout",
     "text": [
      "torch.Size([64, 10])\n",
      "tensor([1.0000, 1.0000, 1.0000, 1.0000, 1.0000, 1.0000, 1.0000, 1.0000, 1.0000,\n",
      "        1.0000, 1.0000, 1.0000, 1.0000, 1.0000, 1.0000, 1.0000, 1.0000, 1.0000,\n",
      "        1.0000, 1.0000, 1.0000, 1.0000, 1.0000, 1.0000, 1.0000, 1.0000, 1.0000,\n",
      "        1.0000, 1.0000, 1.0000, 1.0000, 1.0000, 1.0000, 1.0000, 1.0000, 1.0000,\n",
      "        1.0000, 1.0000, 1.0000, 1.0000, 1.0000, 1.0000, 1.0000, 1.0000, 1.0000,\n",
      "        1.0000, 1.0000, 1.0000, 1.0000, 1.0000, 1.0000, 1.0000, 1.0000, 1.0000,\n",
      "        1.0000, 1.0000, 1.0000, 1.0000, 1.0000, 1.0000, 1.0000, 1.0000, 1.0000,\n",
      "        1.0000])\n"
     ]
    }
   ],
   "metadata": {
    "collapsed": true
   }
  },
  {
   "cell_type": "markdown",
   "source": [
    "## Building networks with PyTorch\n",
    "\n",
    "PyTorch provides a module `nn` that makes building networks much simpler. Here I'll show you how to build the same one as above with 784 inputs, 256 hidden units, 10 output units and a softmax output."
   ],
   "metadata": {}
  },
  {
   "cell_type": "code",
   "execution_count": null,
   "source": [
    "from torch import nn"
   ],
   "outputs": [],
   "metadata": {
    "collapsed": true
   }
  },
  {
   "cell_type": "code",
   "execution_count": null,
   "source": [
    "class Network(nn.Module):\r\n",
    "    def __init__(self):\r\n",
    "        super().__init__()\r\n",
    "        \r\n",
    "        # Inputs to hidden layer linear transformation\r\n",
    "        self.hidden = nn.Linear(784, 256)\r\n",
    "        # Output layer, 10 units - one for each digit\r\n",
    "        self.output = nn.Linear(256, 10)\r\n",
    "        \r\n",
    "        # Define sigmoid activation and softmax output \r\n",
    "        self.sigmoid = nn.Sigmoid()\r\n",
    "        self.softmax = nn.Softmax(dim=1)\r\n",
    "        \r\n",
    "    def forward(self, x):\r\n",
    "        # Pass the input tensor through each of our operations\r\n",
    "        x = self.hidden(x)\r\n",
    "        x = self.sigmoid(x)\r\n",
    "        x = self.output(x)\r\n",
    "        x = self.softmax(x)\r\n",
    "        \r\n",
    "        return x"
   ],
   "outputs": [],
   "metadata": {
    "collapsed": true
   }
  },
  {
   "cell_type": "markdown",
   "source": [
    "Let's go through this bit by bit.\n",
    "\n",
    "```python\n",
    "class Network(nn.Module):\n",
    "```\n",
    "\n",
    "Here we're inheriting from `nn.Module`. Combined with `super().__init__()` this creates a class that tracks the architecture and provides a lot of useful methods and attributes. It is mandatory to inherit from `nn.Module` when you're creating a class for your network. The name of the class itself can be anything.\n",
    "\n",
    "```python\n",
    "self.hidden = nn.Linear(784, 256)\n",
    "```\n",
    "\n",
    "This line creates a module for a linear transformation, $x\\mathbf{W} + b$, with 784 inputs and 256 outputs and assigns it to `self.hidden`. The module automatically creates the weight and bias tensors which we'll use in the `forward` method. You can access the weight and bias tensors once the network (`net`) is created with `net.hidden.weight` and `net.hidden.bias`.\n",
    "\n",
    "```python\n",
    "self.output = nn.Linear(256, 10)\n",
    "```\n",
    "\n",
    "Similarly, this creates another linear transformation with 256 inputs and 10 outputs.\n",
    "\n",
    "```python\n",
    "self.sigmoid = nn.Sigmoid()\n",
    "self.softmax = nn.Softmax(dim=1)\n",
    "```\n",
    "\n",
    "Here I defined operations for the sigmoid activation and softmax output. Setting `dim=1` in `nn.Softmax(dim=1)` calculates softmax across the columns.\n",
    "\n",
    "```python\n",
    "def forward(self, x):\n",
    "```\n",
    "\n",
    "PyTorch networks created with `nn.Module` must have a `forward` method defined. It takes in a tensor `x` and passes it through the operations you defined in the `__init__` method.\n",
    "\n",
    "```python\n",
    "x = self.hidden(x)\n",
    "x = self.sigmoid(x)\n",
    "x = self.output(x)\n",
    "x = self.softmax(x)\n",
    "```\n",
    "\n",
    "Here the input tensor `x` is passed through each operation and reassigned to `x`. We can see that the input tensor goes through the hidden layer, then a sigmoid function, then the output layer, and finally the softmax function. It doesn't matter what you name the variables here, as long as the inputs and outputs of the operations match the network architecture you want to build. The order in which you define things in the `__init__` method doesn't matter, but you'll need to sequence the operations correctly in the `forward` method.\n",
    "\n",
    "Now we can create a `Network` object."
   ],
   "metadata": {}
  },
  {
   "cell_type": "code",
   "execution_count": null,
   "source": [
    "# Create the network and look at it's text representation\r\n",
    "model = Network()\r\n",
    "model"
   ],
   "outputs": [],
   "metadata": {
    "collapsed": true
   }
  },
  {
   "cell_type": "markdown",
   "source": [
    "You can define the network somewhat more concisely and clearly using the `torch.nn.functional` module. This is the most common way you'll see networks defined as many operations are simple element-wise functions. We normally import this module as `F`, `import torch.nn.functional as F`."
   ],
   "metadata": {}
  },
  {
   "cell_type": "code",
   "execution_count": null,
   "source": [
    "import torch.nn.functional as F\r\n",
    "\r\n",
    "class Network(nn.Module):\r\n",
    "    def __init__(self):\r\n",
    "        super().__init__()\r\n",
    "        # Inputs to hidden layer linear transformation\r\n",
    "        self.hidden = nn.Linear(784, 256)\r\n",
    "        # Output layer, 10 units - one for each digit\r\n",
    "        self.output = nn.Linear(256, 10)\r\n",
    "        \r\n",
    "    def forward(self, x):\r\n",
    "        # Hidden layer with sigmoid activation\r\n",
    "        x = F.sigmoid(self.hidden(x))\r\n",
    "        # Output layer with softmax activation\r\n",
    "        x = F.softmax(self.output(x), dim=1)\r\n",
    "        \r\n",
    "        return x"
   ],
   "outputs": [],
   "metadata": {
    "collapsed": true
   }
  },
  {
   "cell_type": "markdown",
   "source": [
    "### Activation functions\n",
    "\n",
    "So far we've only been looking at the sigmoid activation function, but in general any function can be used as an activation function. The only requirement is that for a network to approximate a non-linear function, the activation functions must be non-linear. Here are a few more examples of common activation functions: Tanh (hyperbolic tangent), and ReLU (rectified linear unit).\n",
    "\n",
    "<img src=\"assets/activation.png\" width=700px>\n",
    "\n",
    "In practice, the ReLU function is used almost exclusively as the activation function for hidden layers."
   ],
   "metadata": {}
  },
  {
   "cell_type": "markdown",
   "source": [
    "### Your Turn to Build a Network\n",
    "\n",
    "<img src=\"assets/mlp_mnist.png\" width=600px>\n",
    "\n",
    "> **Exercise:** Create a network with 784 input units, a hidden layer with 128 units and a ReLU activation, then a hidden layer with 64 units and a ReLU activation, and finally an output layer with a softmax activation as shown above. You can use a ReLU activation with the `nn.ReLU` module or `F.relu` function.\n",
    "\n",
    "It's good practice to name your layers by their type of network, for instance 'fc' to represent a fully-connected layer. As you code your solution, use `fc1`, `fc2`, and `fc3` as your layer names."
   ],
   "metadata": {}
  },
  {
   "cell_type": "code",
   "execution_count": null,
   "source": [
    "## Your solution here\r\n"
   ],
   "outputs": [],
   "metadata": {
    "collapsed": true,
    "scrolled": true
   }
  },
  {
   "cell_type": "markdown",
   "source": [
    "### Initializing weights and biases\n",
    "\n",
    "The weights and such are automatically initialized for you, but it's possible to customize how they are initialized. The weights and biases are tensors attached to the layer you defined, you can get them with `model.fc1.weight` for instance."
   ],
   "metadata": {}
  },
  {
   "cell_type": "code",
   "execution_count": null,
   "source": [
    "print(model.fc1.weight)\r\n",
    "print(model.fc1.bias)"
   ],
   "outputs": [],
   "metadata": {
    "collapsed": true
   }
  },
  {
   "cell_type": "markdown",
   "source": [
    "For custom initialization, we want to modify these tensors in place. These are actually autograd *Variables*, so we need to get back the actual tensors with `model.fc1.weight.data`. Once we have the tensors, we can fill them with zeros (for biases) or random normal values."
   ],
   "metadata": {}
  },
  {
   "cell_type": "code",
   "execution_count": null,
   "source": [
    "# Set biases to all zeros\r\n",
    "model.fc1.bias.data.fill_(0)"
   ],
   "outputs": [],
   "metadata": {
    "collapsed": true
   }
  },
  {
   "cell_type": "code",
   "execution_count": null,
   "source": [
    "# sample from random normal with standard dev = 0.01\r\n",
    "model.fc1.weight.data.normal_(std=0.01)"
   ],
   "outputs": [],
   "metadata": {
    "collapsed": true
   }
  },
  {
   "cell_type": "markdown",
   "source": [
    "### Forward pass\n",
    "\n",
    "Now that we have a network, let's see what happens when we pass in an image."
   ],
   "metadata": {}
  },
  {
   "cell_type": "code",
   "execution_count": null,
   "source": [
    "# Grab some data \r\n",
    "dataiter = iter(trainloader)\r\n",
    "images, labels = dataiter.next()\r\n",
    "\r\n",
    "# Resize images into a 1D vector, new shape is (batch size, color channels, image pixels) \r\n",
    "images.resize_(64, 1, 784)\r\n",
    "# or images.resize_(images.shape[0], 1, 784) to automatically get batch size\r\n",
    "\r\n",
    "# Forward pass through the network\r\n",
    "img_idx = 0\r\n",
    "ps = model.forward(images[img_idx,:])\r\n",
    "\r\n",
    "img = images[img_idx]\r\n",
    "helper.view_classify(img.view(1, 28, 28), ps)"
   ],
   "outputs": [],
   "metadata": {
    "collapsed": true
   }
  },
  {
   "cell_type": "markdown",
   "source": [
    "As you can see above, our network has basically no idea what this digit is. It's because we haven't trained it yet, all the weights are random!\n",
    "\n",
    "### Using `nn.Sequential`\n",
    "\n",
    "PyTorch provides a convenient way to build networks like this where a tensor is passed sequentially through operations, `nn.Sequential` ([documentation](https://pytorch.org/docs/master/nn.html#torch.nn.Sequential)). Using this to build the equivalent network:"
   ],
   "metadata": {}
  },
  {
   "cell_type": "code",
   "execution_count": null,
   "source": [
    "# Hyperparameters for our network\r\n",
    "input_size = 784\r\n",
    "hidden_sizes = [128, 64]\r\n",
    "output_size = 10\r\n",
    "\r\n",
    "# Build a feed-forward network\r\n",
    "model = nn.Sequential(nn.Linear(input_size, hidden_sizes[0]),\r\n",
    "                      nn.ReLU(),\r\n",
    "                      nn.Linear(hidden_sizes[0], hidden_sizes[1]),\r\n",
    "                      nn.ReLU(),\r\n",
    "                      nn.Linear(hidden_sizes[1], output_size),\r\n",
    "                      nn.Softmax(dim=1))\r\n",
    "print(model)\r\n",
    "\r\n",
    "# Forward pass through the network and display output\r\n",
    "images, labels = next(iter(trainloader))\r\n",
    "images.resize_(images.shape[0], 1, 784)\r\n",
    "ps = model.forward(images[0,:])\r\n",
    "helper.view_classify(images[0].view(1, 28, 28), ps)"
   ],
   "outputs": [],
   "metadata": {
    "collapsed": true
   }
  },
  {
   "cell_type": "markdown",
   "source": [
    "Here our model is the same as before: 784 input units, a hidden layer with 128 units, ReLU activation, 64 unit hidden layer, another ReLU, then the output layer with 10 units, and the softmax output.\n",
    "\n",
    "The operations are available by passing in the appropriate index. For example, if you want to get first Linear operation and look at the weights, you'd use `model[0]`."
   ],
   "metadata": {}
  },
  {
   "cell_type": "code",
   "execution_count": null,
   "source": [
    "print(model[0])\r\n",
    "model[0].weight"
   ],
   "outputs": [],
   "metadata": {
    "collapsed": true
   }
  },
  {
   "cell_type": "markdown",
   "source": [
    "You can also pass in an `OrderedDict` to name the individual layers and operations, instead of using incremental integers. Note that dictionary keys must be unique, so _each operation must have a different name_."
   ],
   "metadata": {}
  },
  {
   "cell_type": "code",
   "execution_count": null,
   "source": [
    "from collections import OrderedDict\r\n",
    "model = nn.Sequential(OrderedDict([\r\n",
    "                      ('fc1', nn.Linear(input_size, hidden_sizes[0])),\r\n",
    "                      ('relu1', nn.ReLU()),\r\n",
    "                      ('fc2', nn.Linear(hidden_sizes[0], hidden_sizes[1])),\r\n",
    "                      ('relu2', nn.ReLU()),\r\n",
    "                      ('output', nn.Linear(hidden_sizes[1], output_size)),\r\n",
    "                      ('softmax', nn.Softmax(dim=1))]))\r\n",
    "model"
   ],
   "outputs": [],
   "metadata": {
    "collapsed": true
   }
  },
  {
   "cell_type": "markdown",
   "source": [
    "Now you can access layers either by integer or the name"
   ],
   "metadata": {}
  },
  {
   "cell_type": "code",
   "execution_count": null,
   "source": [
    "print(model[0])\r\n",
    "print(model.fc1)"
   ],
   "outputs": [],
   "metadata": {
    "collapsed": true
   }
  },
  {
   "cell_type": "markdown",
   "source": [
    "In the next notebook, we'll see how we can train a neural network to accuractly predict the numbers appearing in the MNIST images."
   ],
   "metadata": {}
  }
 ],
 "metadata": {
  "kernelspec": {
   "name": "python3",
   "display_name": "Python 3.9.6 64-bit"
  },
  "language_info": {
   "codemirror_mode": {
    "name": "ipython",
    "version": 3
   },
   "file_extension": ".py",
   "mimetype": "text/x-python",
   "name": "python",
   "nbconvert_exporter": "python",
   "pygments_lexer": "ipython3",
   "version": "3.9.6"
  },
  "interpreter": {
   "hash": "ac59ebe37160ed0dfa835113d9b8498d9f09ceb179beaac4002f036b9467c963"
  }
 },
 "nbformat": 4,
 "nbformat_minor": 2
}