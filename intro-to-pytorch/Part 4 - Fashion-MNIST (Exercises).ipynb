{
 "cells": [
  {
   "cell_type": "markdown",
   "source": [
    "# Classifying Fashion-MNIST\n",
    "\n",
    "Now it's your turn to build and train a neural network. You'll be using the [Fashion-MNIST dataset](https://github.com/zalandoresearch/fashion-mnist), a drop-in replacement for the MNIST dataset. MNIST is actually quite trivial with neural networks where you can easily achieve better than 97% accuracy. Fashion-MNIST is a set of 28x28 greyscale images of clothes. It's more complex than MNIST, so it's a better representation of the actual performance of your network, and a better representation of datasets you'll use in the real world.\n",
    "\n",
    "<img src='assets/fashion-mnist-sprite.png' width=500px>\n",
    "\n",
    "In this notebook, you'll build your own neural network. For the most part, you could just copy and paste the code from Part 3, but you wouldn't be learning. It's important for you to write the code yourself and get it to work. Feel free to consult the previous notebooks though as you work through this.\n",
    "\n",
    "First off, let's load the dataset through torchvision."
   ],
   "metadata": {}
  },
  {
   "cell_type": "code",
   "execution_count": 1,
   "source": [
    "import torch\n",
    "from torchvision import datasets, transforms\n",
    "import helper\n",
    "\n",
    "# Define a transform to normalize the data\n",
    "transform = transforms.Compose([transforms.ToTensor(),\n",
    "                                transforms.Normalize((0.5,), (0.5,))])\n",
    "\n",
    "# Download and load the training data\n",
    "trainset = datasets.FashionMNIST('~/.pytorch/F_MNIST_data/', download=True, \n",
    "                                 train=True, transform=transform)\n",
    "trainloader = torch.utils.data.DataLoader(trainset, batch_size=64, shuffle=True)\n",
    "\n",
    "# Download and load the test data\n",
    "testset = datasets.FashionMNIST('~/.pytorch/F_MNIST_data/', download=True, \n",
    "                                train=False, transform=transform)\n",
    "testloader = torch.utils.data.DataLoader(testset, batch_size=64, shuffle=True)"
   ],
   "outputs": [
    {
     "output_type": "stream",
     "name": "stdout",
     "text": [
      "Downloading http://fashion-mnist.s3-website.eu-central-1.amazonaws.com/train-images-idx3-ubyte.gz\n",
      "Downloading http://fashion-mnist.s3-website.eu-central-1.amazonaws.com/train-images-idx3-ubyte.gz to /Users/robert/.pytorch/F_MNIST_data/FashionMNIST/raw/train-images-idx3-ubyte.gz\n"
     ]
    },
    {
     "output_type": "stream",
     "name": "stderr",
     "text": [
      "100.0%\n"
     ]
    },
    {
     "output_type": "stream",
     "name": "stdout",
     "text": [
      "Extracting /Users/robert/.pytorch/F_MNIST_data/FashionMNIST/raw/train-images-idx3-ubyte.gz to /Users/robert/.pytorch/F_MNIST_data/FashionMNIST/raw\n",
      "\n",
      "Downloading http://fashion-mnist.s3-website.eu-central-1.amazonaws.com/train-labels-idx1-ubyte.gz\n",
      "Downloading http://fashion-mnist.s3-website.eu-central-1.amazonaws.com/train-labels-idx1-ubyte.gz to /Users/robert/.pytorch/F_MNIST_data/FashionMNIST/raw/train-labels-idx1-ubyte.gz\n"
     ]
    },
    {
     "output_type": "stream",
     "name": "stderr",
     "text": [
      "100.6%\n"
     ]
    },
    {
     "output_type": "stream",
     "name": "stdout",
     "text": [
      "Extracting /Users/robert/.pytorch/F_MNIST_data/FashionMNIST/raw/train-labels-idx1-ubyte.gz to /Users/robert/.pytorch/F_MNIST_data/FashionMNIST/raw\n",
      "\n",
      "Downloading http://fashion-mnist.s3-website.eu-central-1.amazonaws.com/t10k-images-idx3-ubyte.gz\n",
      "Downloading http://fashion-mnist.s3-website.eu-central-1.amazonaws.com/t10k-images-idx3-ubyte.gz to /Users/robert/.pytorch/F_MNIST_data/FashionMNIST/raw/t10k-images-idx3-ubyte.gz\n"
     ]
    },
    {
     "output_type": "stream",
     "name": "stderr",
     "text": [
      "100.0%\n"
     ]
    },
    {
     "output_type": "stream",
     "name": "stdout",
     "text": [
      "Extracting /Users/robert/.pytorch/F_MNIST_data/FashionMNIST/raw/t10k-images-idx3-ubyte.gz to /Users/robert/.pytorch/F_MNIST_data/FashionMNIST/raw\n",
      "\n",
      "Downloading http://fashion-mnist.s3-website.eu-central-1.amazonaws.com/t10k-labels-idx1-ubyte.gz\n",
      "Downloading http://fashion-mnist.s3-website.eu-central-1.amazonaws.com/t10k-labels-idx1-ubyte.gz to /Users/robert/.pytorch/F_MNIST_data/FashionMNIST/raw/t10k-labels-idx1-ubyte.gz\n"
     ]
    },
    {
     "output_type": "stream",
     "name": "stderr",
     "text": [
      "119.3%"
     ]
    },
    {
     "output_type": "stream",
     "name": "stdout",
     "text": [
      "Extracting /Users/robert/.pytorch/F_MNIST_data/FashionMNIST/raw/t10k-labels-idx1-ubyte.gz to /Users/robert/.pytorch/F_MNIST_data/FashionMNIST/raw\n",
      "\n"
     ]
    },
    {
     "output_type": "stream",
     "name": "stderr",
     "text": [
      "\n",
      "/Users/robert/.miniconda3/envs/aipy/lib/python3.9/site-packages/torchvision/datasets/mnist.py:498: UserWarning: The given NumPy array is not writeable, and PyTorch does not support non-writeable tensors. This means you can write to the underlying (supposedly non-writeable) NumPy array using the tensor. You may want to copy the array to protect its data or make it writeable before converting it to a tensor. This type of warning will be suppressed for the rest of this program. (Triggered internally at  /Users/distiller/project/conda/conda-bld/pytorch_1623459065530/work/torch/csrc/utils/tensor_numpy.cpp:180.)\n",
      "  return torch.from_numpy(parsed.astype(m[2], copy=False)).view(*s)\n"
     ]
    }
   ],
   "metadata": {}
  },
  {
   "cell_type": "markdown",
   "source": [
    "Here we can see one of the images."
   ],
   "metadata": {}
  },
  {
   "cell_type": "code",
   "execution_count": 6,
   "source": [
    "image, label = next(iter(trainloader))\n",
    "helper.imshow(image[0,:]);\n",
    "print(label[0])"
   ],
   "outputs": [
    {
     "output_type": "stream",
     "name": "stdout",
     "text": [
      "tensor(0)\n"
     ]
    },
    {
     "output_type": "display_data",
     "data": {
      "image/png": "[encoded data removed]",
      "image/svg+xml": "<?xml version=\"1.0\" encoding=\"utf-8\" standalone=\"no\"?>\n<!DOCTYPE svg PUBLIC \"-//W3C//DTD SVG 1.1//EN\"\n  \"http://www.w3.org/Graphics/SVG/1.1/DTD/svg11.dtd\">\n<svg height=\"231.84pt\" version=\"1.1\" viewBox=\"0 0 231.84 231.84\" width=\"231.84pt\" xmlns=\"http://www.w3.org/2000/svg\" xmlns:xlink=\"http://www.w3.org/1999/xlink\">\n <metadata>\n  <rdf:RDF xmlns:cc=\"http://creativecommons.org/ns#\" xmlns:dc=\"http://purl.org/dc/elements/1.1/\" xmlns:rdf=\"http://www.w3.org/1999/02/22-rdf-syntax-ns#\">\n   <cc:Work>\n    <dc:type rdf:resource=\"http://purl.org/dc/dcmitype/StillImage\"/>\n    <dc:date>2021-09-21T19:10:18.941896</dc:date>\n    <dc:format>image/svg+xml</dc:format>\n    <dc:creator>\n     <cc:Agent>\n      <dc:title>Matplotlib v3.4.2, https://matplotlib.org/</dc:title>\n     </cc:Agent>\n    </dc:creator>\n   </cc:Work>\n  </rdf:RDF>\n </metadata>\n <defs>\n  <style type=\"text/css\">*{stroke-linecap:butt;stroke-linejoin:round;}</style>\n </defs>\n <g id=\"figure_1\">\n  <g id=\"patch_1\">\n   <path d=\"M 0 231.84 \nL 231.84 231.84 \nL 231.84 0 \nL 0 0 \nz\n\"/>\n  </g>\n  <g id=\"axes_1\">\n   <g id=\"patch_2\">\n    <path d=\"M 7.2 224.64 \nL 224.64 224.64 \nL 224.64 7.2 \nL 7.2 7.2 \nz\n\"/>\n   </g>\n   <g clip-path=\"url(#pb8e5f08a87)\">\n    <image height=\"218\" id=\"image58f9094a02\" transform=\"scale(1 -1)translate(0 -218)\" width=\"218\" x=\"7.2\" xlink:href=\"data:image/png;base64,\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\" y=\"-6.64\"/>\n   </g>\n   <g id=\"matplotlib.axis_1\">\n    <g id=\"xtick_1\">\n     <g id=\"line2d_1\"/>\n    </g>\n    <g id=\"xtick_2\">\n     <g id=\"line2d_2\"/>\n    </g>\n    <g id=\"xtick_3\">\n     <g id=\"line2d_3\"/>\n    </g>\n    <g id=\"xtick_4\">\n     <g id=\"line2d_4\"/>\n    </g>\n    <g id=\"xtick_5\">\n     <g id=\"line2d_5\"/>\n    </g>\n    <g id=\"xtick_6\">\n     <g id=\"line2d_6\"/>\n    </g>\n   </g>\n   <g id=\"matplotlib.axis_2\">\n    <g id=\"ytick_1\">\n     <g id=\"line2d_7\"/>\n    </g>\n    <g id=\"ytick_2\">\n     <g id=\"line2d_8\"/>\n    </g>\n    <g id=\"ytick_3\">\n     <g id=\"line2d_9\"/>\n    </g>\n    <g id=\"ytick_4\">\n     <g id=\"line2d_10\"/>\n    </g>\n    <g id=\"ytick_5\">\n     <g id=\"line2d_11\"/>\n    </g>\n    <g id=\"ytick_6\">\n     <g id=\"line2d_12\"/>\n    </g>\n   </g>\n  </g>\n </g>\n <defs>\n  <clipPath id=\"pb8e5f08a87\">\n   <rect height=\"217.44\" width=\"217.44\" x=\"7.2\" y=\"7.2\"/>\n  </clipPath>\n </defs>\n</svg>\n",
      "text/plain": [
       "<Figure size 432x288 with 1 Axes>"
      ]
     },
     "metadata": {}
    }
   ],
   "metadata": {}
  },
  {
   "cell_type": "markdown",
   "source": [
    "## Building the network\n",
    "\n",
    "Here you should define your network. As with MNIST, each image is 28x28 which is a total of 784 pixels, and there are 10 classes. You should include at least one hidden layer. We suggest you use ReLU activations for the layers and to return the logits or log-softmax from the forward pass. It's up to you how many layers you add and the size of those layers."
   ],
   "metadata": {}
  },
  {
   "cell_type": "code",
   "execution_count": 14,
   "source": [
    "# TODO: Define your network architecture here\n",
    "from torch import nn\n",
    "from torch import optim\n",
    "\n",
    "model = nn.Sequential(nn.Linear(784, 256), nn.ReLU(),\n",
    "                      nn.Linear(256, 124), nn.ReLU(),\n",
    "                      nn.Linear(124, 64), nn.ReLU(),\n",
    "                      nn.Linear(64, 10), nn.LogSoftmax(dim=1))"
   ],
   "outputs": [],
   "metadata": {}
  },
  {
   "cell_type": "markdown",
   "source": [
    "# Train the network\n",
    "\n",
    "Now you should create your network and train it. First you'll want to define [the criterion](http://pytorch.org/docs/master/nn.html#loss-functions) ( something like `nn.CrossEntropyLoss`) and [the optimizer](http://pytorch.org/docs/master/optim.html) (typically `optim.SGD` or `optim.Adam`).\n",
    "\n",
    "Then write the training code. Remember the training pass is a fairly straightforward process:\n",
    "\n",
    "* Make a forward pass through the network to get the logits \n",
    "* Use the logits to calculate the loss\n",
    "* Perform a backward pass through the network with `loss.backward()` to calculate the gradients\n",
    "* Take a step with the optimizer to update the weights\n",
    "\n",
    "By adjusting the hyperparameters (hidden units, learning rate, etc), you should be able to get the training loss below 0.4."
   ],
   "metadata": {}
  },
  {
   "cell_type": "code",
   "execution_count": 15,
   "source": [
    "# TODO: Create the network, define the criterion and optimizer\n",
    "criterion = nn.NLLLoss()\n",
    "optimiser = optim.SGD(model.parameters(), lr=0.01)"
   ],
   "outputs": [],
   "metadata": {}
  },
  {
   "cell_type": "code",
   "execution_count": 17,
   "source": [
    "# TODO: Train the network here\n",
    "epochs = 6\n",
    "for e in range(epochs):\n",
    "    running_loss = 0\n",
    "    for images, labels in trainloader:\n",
    "        images = images.view(images.shape[0], -1)\n",
    "\n",
    "        optimiser.zero_grad()\n",
    "\n",
    "        output = model(images)\n",
    "        loss = criterion(output, labels)\n",
    "        loss.backward()\n",
    "        optimiser.step()\n",
    "        \n",
    "        running_loss += loss.item()\n",
    "    else:\n",
    "        print(f\"Training loss: {running_loss/len(trainloader)}\")"
   ],
   "outputs": [
    {
     "output_type": "stream",
     "name": "stdout",
     "text": [
      "Training loss: 0.42170862516741764\n",
      "Training loss: 0.4034565585031947\n",
      "Training loss: 0.38855621401371476\n",
      "Training loss: 0.3740331164714116\n",
      "Training loss: 0.36305656493790367\n",
      "Training loss: 0.3525403102339585\n"
     ]
    }
   ],
   "metadata": {}
  },
  {
   "cell_type": "code",
   "execution_count": 38,
   "source": [
    "%matplotlib inline\n",
    "%config InlineBackend.figure_format = 'retina'\n",
    "\n",
    "import helper\n",
    "\n",
    "# Test out your network!\n",
    "\n",
    "dataiter = iter(testloader)\n",
    "images, labels = dataiter.next()\n",
    "img = images[0]\n",
    "\n",
    "# Convert 2D image to 1D vector\n",
    "img = img.resize_(1, 784)\n",
    "\n",
    "# TODO: Calculate the class probabilities (softmax) for img\n",
    "with torch.no_grad():\n",
    "    logps = model(img)\n",
    "ps = torch.exp(logps)\n",
    "\n",
    "# Plot the image and probabilities\n",
    "helper.view_classify(img.resize_(1, 28, 28), ps, version='Fashion')"
   ],
   "outputs": [
    {
     "output_type": "display_data",
     "data": {
      "image/png": "[encoded data removed]",
      "text/plain": [
       "<Figure size 432x648 with 2 Axes>"
      ]
     },
     "metadata": {
      "image/png": {
       "width": 424,
       "height": 216
      },
      "needs_background": "dark"
     }
    }
   ],
   "metadata": {}
  }
 ],
 "metadata": {
  "kernelspec": {
   "name": "python3",
   "display_name": "Python 3.9.6 64-bit ('aipy': conda)"
  },
  "language_info": {
   "codemirror_mode": {
    "name": "ipython",
    "version": 3
   },
   "file_extension": ".py",
   "mimetype": "text/x-python",
   "name": "python",
   "nbconvert_exporter": "python",
   "pygments_lexer": "ipython3",
   "version": "3.9.6"
  },
  "interpreter": {
   "hash": "5284d6bb2a88cbe49cf7ab99c6931535c140ec5b757447db2e04ef2cc3255efe"
  }
 },
 "nbformat": 4,
 "nbformat_minor": 2
}